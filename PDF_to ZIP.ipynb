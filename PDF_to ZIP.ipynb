{
 "cells": [
  {
   "cell_type": "markdown",
   "id": "20a854f7-e793-4e1e-bec8-2d40c12318c3",
   "metadata": {},
   "source": [
    "### How to extract PDF files in to ZIP file using Python"
   ]
  },
  {
   "cell_type": "code",
   "execution_count": 3,
   "id": "04f9e945-2d88-4be7-8b14-f45575fad67e",
   "metadata": {},
   "outputs": [
    {
     "name": "stdout",
     "output_type": "stream",
     "text": [
      "Successfully compressed 1 PDF files into 'Gambar/output_file.zip'.\n"
     ]
    }
   ],
   "source": [
    "import os\n",
    "from zipfile import ZipFile\n",
    "\n",
    "def extract_pdfs_to_zip(source_folder, output_zip):\n",
    "    if not os.path.exists(source_folder):\n",
    "        raise FileNotFoundError(f\"The folder '{source_folder}' does not exist.\")\n",
    "\n",
    "    pdf_files = [f for f in os.listdir(source_folder) if f.lower().endswith('.pdf')]\n",
    "\n",
    "    if not pdf_files:\n",
    "        raise FileNotFoundError(\"No PDF files found in the source folder.\")\n",
    "\n",
    "    with ZipFile(output_zip, 'w') as zipf:\n",
    "        for pdf in pdf_files:\n",
    "            pdf_path = os.path.join(source_folder, pdf)\n",
    "            zipf.write(pdf_path, arcname=pdf)\n",
    "    print(f\"Successfully compressed {len(pdf_files)} PDF files into '{output_zip}'.\")\n",
    "\n",
    "source_folder = 'Gambar'\n",
    "output_zip = 'Gambar/output_file.zip'\n",
    "extract_pdfs_to_zip(source_folder, output_zip)"
   ]
  }
 ],
 "metadata": {
  "kernelspec": {
   "display_name": "Python 3 (ipykernel)",
   "language": "python",
   "name": "python3"
  },
  "language_info": {
   "codemirror_mode": {
    "name": "ipython",
    "version": 3
   },
   "file_extension": ".py",
   "mimetype": "text/x-python",
   "name": "python",
   "nbconvert_exporter": "python",
   "pygments_lexer": "ipython3",
   "version": "3.12.7"
  }
 },
 "nbformat": 4,
 "nbformat_minor": 5
}
