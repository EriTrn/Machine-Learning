{
 "cells": [
  {
   "cell_type": "code",
   "execution_count": 1,
   "id": "cf10d990-f51d-48cc-864b-be1cb1f6b3b8",
   "metadata": {},
   "outputs": [],
   "source": [
    "import numpy as np\n",
    "import pandas as pd"
   ]
  },
  {
   "cell_type": "code",
   "execution_count": 2,
   "id": "358bb521-3a63-4a33-9b8d-f434952c7655",
   "metadata": {},
   "outputs": [],
   "source": [
    "# Membuat data random\n",
    "data1 = pd.DataFrame({\n",
    "    'ID': np.arange(1, 6),\n",
    "    'Value1': np.random.randint(10, 100, 5)\n",
    "})\n",
    "\n",
    "data2 = pd.DataFrame({\n",
    "    'ID': np.arange(6, 11),\n",
    "    'Value2': np.random.randint(10, 100, 5)\n",
    "})"
   ]
  },
  {
   "cell_type": "code",
   "execution_count": 3,
   "id": "a7be111b-eb83-49c2-9722-f415ce8df73c",
   "metadata": {},
   "outputs": [],
   "source": [
    "# menyimpan dataset\n",
    "data1.to_csv('folder1/data1.csv', index=False)\n",
    "data2.to_csv('folder2/data2.csv', index=False)"
   ]
  },
  {
   "cell_type": "code",
   "execution_count": 4,
   "id": "ecb030fe-a4b3-45ba-a036-fb89cdc3674f",
   "metadata": {},
   "outputs": [],
   "source": [
    "# Membaca dataset\n",
    "data1 = pd.read_csv('folder1/data1.csv')\n",
    "data2 = pd.read_csv('folder2/data2.csv')"
   ]
  },
  {
   "cell_type": "code",
   "execution_count": 5,
   "id": "c530c9ab-c7e8-48ed-aa65-a68243ba33b2",
   "metadata": {},
   "outputs": [
    {
     "name": "stdout",
     "output_type": "stream",
     "text": [
      "Data digabung secara vertikal:\n",
      "    ID  Value1  Value2\n",
      "0   1    22.0     NaN\n",
      "1   2    30.0     NaN\n",
      "2   3    82.0     NaN\n",
      "3   4    64.0     NaN\n",
      "4   5    60.0     NaN\n",
      "5   6     NaN    18.0\n",
      "6   7     NaN    31.0\n",
      "7   8     NaN    48.0\n",
      "8   9     NaN    31.0\n",
      "9  10     NaN    97.0\n"
     ]
    }
   ],
   "source": [
    "gabung_data = pd.concat([data1, data2], ignore_index=True)\n",
    "print(\"Data digabung secara vertikal:\\n\", gabung_data)"
   ]
  },
  {
   "cell_type": "code",
   "execution_count": 6,
   "id": "883c57ed-8280-4917-8f3e-ada21792338d",
   "metadata": {},
   "outputs": [
    {
     "name": "stdout",
     "output_type": "stream",
     "text": [
      "\n",
      "Data digabung secara horizontal berdasarkan kolom 'ID':\n",
      "    ID  Value1  Value2\n",
      "0   1    22.0     NaN\n",
      "1   2    30.0     NaN\n",
      "2   3    82.0     NaN\n",
      "3   4    64.0     NaN\n",
      "4   5    60.0     NaN\n",
      "5   6     NaN    18.0\n",
      "6   7     NaN    31.0\n",
      "7   8     NaN    48.0\n",
      "8   9     NaN    31.0\n",
      "9  10     NaN    97.0\n"
     ]
    }
   ],
   "source": [
    "combinasi_data = pd.merge(data1, data2, on='ID', how='outer')\n",
    "print(\"\\nData digabung secara horizontal berdasarkan kolom 'ID':\\n\", combinasi_data)"
   ]
  },
  {
   "cell_type": "code",
   "execution_count": null,
   "id": "02414197-9eb6-4431-901c-04753fce9686",
   "metadata": {},
   "outputs": [],
   "source": []
  }
 ],
 "metadata": {
  "kernelspec": {
   "display_name": "Python 3 (ipykernel)",
   "language": "python",
   "name": "python3"
  },
  "language_info": {
   "codemirror_mode": {
    "name": "ipython",
    "version": 3
   },
   "file_extension": ".py",
   "mimetype": "text/x-python",
   "name": "python",
   "nbconvert_exporter": "python",
   "pygments_lexer": "ipython3",
   "version": "3.12.7"
  }
 },
 "nbformat": 4,
 "nbformat_minor": 5
}
