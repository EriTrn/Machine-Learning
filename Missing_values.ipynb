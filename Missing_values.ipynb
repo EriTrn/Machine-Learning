{
 "cells": [
  {
   "cell_type": "code",
   "execution_count": 1,
   "id": "658f156e-25e4-4c4f-88b1-ab473c1d749e",
   "metadata": {},
   "outputs": [],
   "source": [
    "import numpy as np\n",
    "import pandas as pd"
   ]
  },
  {
   "cell_type": "code",
   "execution_count": 2,
   "id": "acffe018-0be0-439b-924c-1e35cdffb8fd",
   "metadata": {},
   "outputs": [],
   "source": [
    "np.random.seed(42)"
   ]
  },
  {
   "cell_type": "code",
   "execution_count": 3,
   "id": "08899e55-2122-4573-8a4e-c42cace2bb97",
   "metadata": {},
   "outputs": [],
   "source": [
    "data = pd.DataFrame({\n",
    "    'A': np.random.randint(1,100,10),\n",
    "    'B': np.random.randint(1,100,10),\n",
    "    'C': np.random.randint(1,100,10)\n",
    "})"
   ]
  },
  {
   "cell_type": "code",
   "execution_count": 4,
   "id": "ca42666d-32ff-409c-a98d-e9ce9ffe9e1c",
   "metadata": {},
   "outputs": [],
   "source": [
    "data.iloc[2,0] = np.nan\n",
    "data.iloc[5,1] = np.nan\n",
    "data.iloc[8,2] = np.nan"
   ]
  },
  {
   "cell_type": "code",
   "execution_count": 5,
   "id": "d0f4e469-ac18-4803-9435-0e364f27a296",
   "metadata": {},
   "outputs": [
    {
     "name": "stdout",
     "output_type": "stream",
     "text": [
      "Data dengan missing value:        A     B     C\n",
      "0  52.0  88.0  64.0\n",
      "1  93.0  24.0  60.0\n",
      "2   NaN   3.0  21.0\n",
      "3  72.0  22.0  33.0\n",
      "4  61.0  53.0  76.0\n",
      "5  21.0   NaN  58.0\n",
      "6  83.0  88.0  22.0\n",
      "7  87.0  30.0  89.0\n",
      "8  75.0  38.0   NaN\n",
      "9  75.0   2.0  91.0\n"
     ]
    }
   ],
   "source": [
    "print(\"Data dengan missing value: \", data)"
   ]
  },
  {
   "cell_type": "code",
   "execution_count": 6,
   "id": "dae1a5c2-a610-48e3-a5a6-b7323c4d5c87",
   "metadata": {},
   "outputs": [
    {
     "data": {
      "text/plain": [
       "A    1\n",
       "B    1\n",
       "C    1\n",
       "dtype: int64"
      ]
     },
     "execution_count": 6,
     "metadata": {},
     "output_type": "execute_result"
    }
   ],
   "source": [
    "data.isnull().sum()"
   ]
  },
  {
   "cell_type": "code",
   "execution_count": 7,
   "id": "4e4234fb-c603-4b8f-a336-7532a28c3e05",
   "metadata": {},
   "outputs": [
    {
     "data": {
      "text/html": [
       "<div>\n",
       "<style scoped>\n",
       "    .dataframe tbody tr th:only-of-type {\n",
       "        vertical-align: middle;\n",
       "    }\n",
       "\n",
       "    .dataframe tbody tr th {\n",
       "        vertical-align: top;\n",
       "    }\n",
       "\n",
       "    .dataframe thead th {\n",
       "        text-align: right;\n",
       "    }\n",
       "</style>\n",
       "<table border=\"1\" class=\"dataframe\">\n",
       "  <thead>\n",
       "    <tr style=\"text-align: right;\">\n",
       "      <th></th>\n",
       "      <th>A</th>\n",
       "      <th>B</th>\n",
       "      <th>C</th>\n",
       "    </tr>\n",
       "  </thead>\n",
       "  <tbody>\n",
       "    <tr>\n",
       "      <th>0</th>\n",
       "      <td>52.000000</td>\n",
       "      <td>88.000000</td>\n",
       "      <td>64.000000</td>\n",
       "    </tr>\n",
       "    <tr>\n",
       "      <th>1</th>\n",
       "      <td>93.000000</td>\n",
       "      <td>24.000000</td>\n",
       "      <td>60.000000</td>\n",
       "    </tr>\n",
       "    <tr>\n",
       "      <th>2</th>\n",
       "      <td>68.777778</td>\n",
       "      <td>3.000000</td>\n",
       "      <td>21.000000</td>\n",
       "    </tr>\n",
       "    <tr>\n",
       "      <th>3</th>\n",
       "      <td>72.000000</td>\n",
       "      <td>22.000000</td>\n",
       "      <td>33.000000</td>\n",
       "    </tr>\n",
       "    <tr>\n",
       "      <th>4</th>\n",
       "      <td>61.000000</td>\n",
       "      <td>53.000000</td>\n",
       "      <td>76.000000</td>\n",
       "    </tr>\n",
       "    <tr>\n",
       "      <th>5</th>\n",
       "      <td>21.000000</td>\n",
       "      <td>38.666667</td>\n",
       "      <td>58.000000</td>\n",
       "    </tr>\n",
       "    <tr>\n",
       "      <th>6</th>\n",
       "      <td>83.000000</td>\n",
       "      <td>88.000000</td>\n",
       "      <td>22.000000</td>\n",
       "    </tr>\n",
       "    <tr>\n",
       "      <th>7</th>\n",
       "      <td>87.000000</td>\n",
       "      <td>30.000000</td>\n",
       "      <td>89.000000</td>\n",
       "    </tr>\n",
       "    <tr>\n",
       "      <th>8</th>\n",
       "      <td>75.000000</td>\n",
       "      <td>38.000000</td>\n",
       "      <td>57.111111</td>\n",
       "    </tr>\n",
       "    <tr>\n",
       "      <th>9</th>\n",
       "      <td>75.000000</td>\n",
       "      <td>2.000000</td>\n",
       "      <td>91.000000</td>\n",
       "    </tr>\n",
       "  </tbody>\n",
       "</table>\n",
       "</div>"
      ],
      "text/plain": [
       "           A          B          C\n",
       "0  52.000000  88.000000  64.000000\n",
       "1  93.000000  24.000000  60.000000\n",
       "2  68.777778   3.000000  21.000000\n",
       "3  72.000000  22.000000  33.000000\n",
       "4  61.000000  53.000000  76.000000\n",
       "5  21.000000  38.666667  58.000000\n",
       "6  83.000000  88.000000  22.000000\n",
       "7  87.000000  30.000000  89.000000\n",
       "8  75.000000  38.000000  57.111111\n",
       "9  75.000000   2.000000  91.000000"
      ]
     },
     "execution_count": 7,
     "metadata": {},
     "output_type": "execute_result"
    }
   ],
   "source": [
    "# data.dropna() # menghapus baris yang memiliki missing values\n",
    "# data.dropna(axis=1) # menghapus kolom yang memiliki missing values\n",
    "# data.fillna(0) # mengganti missing values dengan nilai tetap(dalam hal ini 0)\n",
    "data.fillna(data.mean()) # mengganti missing values dengan rata-rata tiap kolom"
   ]
  },
  {
   "cell_type": "code",
   "execution_count": null,
   "id": "def25251-709f-4afc-8f6a-091062b253ee",
   "metadata": {},
   "outputs": [],
   "source": []
  }
 ],
 "metadata": {
  "kernelspec": {
   "display_name": "Python 3 (ipykernel)",
   "language": "python",
   "name": "python3"
  },
  "language_info": {
   "codemirror_mode": {
    "name": "ipython",
    "version": 3
   },
   "file_extension": ".py",
   "mimetype": "text/x-python",
   "name": "python",
   "nbconvert_exporter": "python",
   "pygments_lexer": "ipython3",
   "version": "3.12.7"
  }
 },
 "nbformat": 4,
 "nbformat_minor": 5
}
